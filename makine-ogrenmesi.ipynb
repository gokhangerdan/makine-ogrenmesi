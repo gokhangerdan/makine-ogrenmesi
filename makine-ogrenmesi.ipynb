{
 "cells": [
  {
   "cell_type": "markdown",
   "metadata": {},
   "source": [
    "# CRISP-DM Metodolojisi (Cross-Industry Standard Process for Data Science)"
   ]
  },
  {
   "cell_type": "markdown",
   "metadata": {},
   "source": [
    "[crisp-dm-metodolojisi-nedir](http://www.leylatilki.com/crisp-dm-metodolojisi-nedir/)\n",
    "\n",
    "[crisp-dm-hiyerarsik-surec-modeli](http://www.leylatilki.com/crisp-dm-hiyerarsik-surec-modeli/)"
   ]
  },
  {
   "cell_type": "markdown",
   "metadata": {},
   "source": [
    "## İçerik\n",
    "\n",
    "* [1. Veri Yükleme](#1.-Veri-Yükleme)\n",
    "* [2. Veri Ön İşleme](#2.-Veri-Ön-İşleme)\n",
    "    * [a. Eksik Veriler](#a.-Eksik-Veriler)\n",
    "    * [b. Kategorik Veriler](#b.-Kategorik-Veriler)\n",
    "    * [c. Verilerin Birleştirilmesi](#c.-Verilerin-Birleştirilmesi)"
   ]
  },
  {
   "cell_type": "markdown",
   "metadata": {},
   "source": [
    "## 1. Veri Yükleme"
   ]
  },
  {
   "cell_type": "markdown",
   "metadata": {},
   "source": [
    "[pandas.DataFrame.to_csv](https://pandas.pydata.org/pandas-docs/stable/reference/api/pandas.DataFrame.to_csv.html)"
   ]
  },
  {
   "cell_type": "code",
   "execution_count": 1,
   "metadata": {
    "_cell_guid": "b1076dfc-b9ad-4769-8c92-a6c4dae69d19",
    "_uuid": "8f2839f25d086af736a60e9eeb907d3b93b6e0e5"
   },
   "outputs": [
    {
     "name": "stdout",
     "output_type": "stream",
     "text": [
      "   ulke  boy  kilo   yas cinsiyet\n",
      "0    tr  130    30  10.0        e\n",
      "1    tr  125    36  11.0        e\n",
      "2    tr  135    34  10.0        k\n",
      "3    tr  133    30   9.0        k\n",
      "4    tr  129    38  12.0        e\n",
      "5    tr  180    90  30.0        e\n",
      "6    tr  190    80  25.0        e\n",
      "7    tr  175    90  35.0        e\n",
      "8    tr  177    60  22.0        k\n",
      "9    us  185   105  33.0        e\n",
      "10   us  165    55  27.0        k\n",
      "11   us  155    50  44.0        k\n",
      "12   us  160    58   NaN        k\n",
      "13   us  162    59  41.0        k\n",
      "14   us  167    62  55.0        k\n",
      "15   fr  174    70  47.0        e\n",
      "16   fr  193    90   NaN        e\n",
      "17   fr  187    80  27.0        e\n",
      "18   fr  183    88  28.0        e\n",
      "19   fr  159    40  29.0        k\n",
      "20   fr  164    66  32.0        k\n",
      "21   fr  166    56  42.0        k\n"
     ]
    }
   ],
   "source": [
    "import pandas as pd\n",
    "\n",
    "# csv formatındaki verisetini yüklemek için:\n",
    "veriler = pd.read_csv('veriler/eksikveriler.csv')\n",
    "\n",
    "# İlk 5 satırı ekrana yazdırmak için;\n",
    "print(veriler)"
   ]
  },
  {
   "cell_type": "markdown",
   "metadata": {},
   "source": [
    "## 2. Veri Ön İşleme"
   ]
  },
  {
   "cell_type": "markdown",
   "metadata": {},
   "source": [
    "* **Veri**\n",
    "    * **Kategorik**\n",
    "        * Nominal\n",
    "            * *Binominal*\n",
    "            * *Polinominal*\n",
    "        * Ordinal\n",
    "    * **Sayısal**\n",
    "        * Oransal\n",
    "        * Aralık"
   ]
  },
  {
   "cell_type": "markdown",
   "metadata": {},
   "source": [
    "### a. Eksik Veriler"
   ]
  },
  {
   "cell_type": "markdown",
   "metadata": {},
   "source": [
    "[sklearn.impute.SimpleImputer](https://scikit-learn.org/stable/modules/generated/sklearn.impute.SimpleImputer.html)"
   ]
  },
  {
   "cell_type": "code",
   "execution_count": 2,
   "metadata": {},
   "outputs": [
    {
     "name": "stdout",
     "output_type": "stream",
     "text": [
      "[[130.  30.  10.]\n",
      " [125.  36.  11.]\n",
      " [135.  34.  10.]\n",
      " [133.  30.   9.]\n",
      " [129.  38.  12.]\n",
      " [180.  90.  30.]\n",
      " [190.  80.  25.]\n",
      " [175.  90.  35.]\n",
      " [177.  60.  22.]\n",
      " [185. 105.  33.]\n",
      " [165.  55.  27.]\n",
      " [155.  50.  44.]\n",
      " [160.  58.  nan]\n",
      " [162.  59.  41.]\n",
      " [167.  62.  55.]\n",
      " [174.  70.  47.]\n",
      " [193.  90.  nan]\n",
      " [187.  80.  27.]\n",
      " [183.  88.  28.]\n",
      " [159.  40.  29.]\n",
      " [164.  66.  32.]\n",
      " [166.  56.  42.]]\n"
     ]
    }
   ],
   "source": [
    "sayisal_veriler = veriler.iloc[:,1:4].values\n",
    "\n",
    "print(sayisal_veriler)"
   ]
  },
  {
   "cell_type": "code",
   "execution_count": 3,
   "metadata": {},
   "outputs": [
    {
     "name": "stdout",
     "output_type": "stream",
     "text": [
      "[[130.    30.    10.  ]\n",
      " [125.    36.    11.  ]\n",
      " [135.    34.    10.  ]\n",
      " [133.    30.     9.  ]\n",
      " [129.    38.    12.  ]\n",
      " [180.    90.    30.  ]\n",
      " [190.    80.    25.  ]\n",
      " [175.    90.    35.  ]\n",
      " [177.    60.    22.  ]\n",
      " [185.   105.    33.  ]\n",
      " [165.    55.    27.  ]\n",
      " [155.    50.    44.  ]\n",
      " [160.    58.    28.45]\n",
      " [162.    59.    41.  ]\n",
      " [167.    62.    55.  ]\n",
      " [174.    70.    47.  ]\n",
      " [193.    90.    28.45]\n",
      " [187.    80.    27.  ]\n",
      " [183.    88.    28.  ]\n",
      " [159.    40.    29.  ]\n",
      " [164.    66.    32.  ]\n",
      " [166.    56.    42.  ]]\n"
     ]
    }
   ],
   "source": [
    "from sklearn.impute import SimpleImputer\n",
    "import numpy as np\n",
    "\n",
    "imputer = SimpleImputer(missing_values=np.nan, strategy='mean')\n",
    "\n",
    "imputer = imputer.fit(sayisal_veriler[:,1:4])\n",
    "\n",
    "sayisal_veriler[:,1:4] = imputer.transform(sayisal_veriler[:,1:4])\n",
    "\n",
    "print(sayisal_veriler)"
   ]
  },
  {
   "cell_type": "markdown",
   "metadata": {},
   "source": [
    "### b. Kategorik Veriler"
   ]
  },
  {
   "cell_type": "markdown",
   "metadata": {},
   "source": [
    "[label-encoder-vs-one-hot-encoder](http://www.leylatilki.com/label-encoder-vs-one-hot-encoder/)"
   ]
  },
  {
   "cell_type": "code",
   "execution_count": 4,
   "metadata": {},
   "outputs": [
    {
     "name": "stdout",
     "output_type": "stream",
     "text": [
      "[[1]\n",
      " [1]\n",
      " [1]\n",
      " [1]\n",
      " [1]\n",
      " [1]\n",
      " [1]\n",
      " [1]\n",
      " [1]\n",
      " [2]\n",
      " [2]\n",
      " [2]\n",
      " [2]\n",
      " [2]\n",
      " [2]\n",
      " [0]\n",
      " [0]\n",
      " [0]\n",
      " [0]\n",
      " [0]\n",
      " [0]\n",
      " [0]]\n"
     ]
    }
   ],
   "source": [
    "from sklearn.preprocessing import LabelEncoder\n",
    "\n",
    "le = LabelEncoder()\n",
    "\n",
    "ulkeler = veriler.iloc[:,0:1].values\n",
    "\n",
    "ulkeler[:,0] = le.fit_transform(ulkeler[:,0])\n",
    "\n",
    "print(ulkeler)"
   ]
  },
  {
   "cell_type": "code",
   "execution_count": 5,
   "metadata": {},
   "outputs": [
    {
     "name": "stdout",
     "output_type": "stream",
     "text": [
      "[[0. 1. 0.]\n",
      " [0. 1. 0.]\n",
      " [0. 1. 0.]\n",
      " [0. 1. 0.]\n",
      " [0. 1. 0.]\n",
      " [0. 1. 0.]\n",
      " [0. 1. 0.]\n",
      " [0. 1. 0.]\n",
      " [0. 1. 0.]\n",
      " [0. 0. 1.]\n",
      " [0. 0. 1.]\n",
      " [0. 0. 1.]\n",
      " [0. 0. 1.]\n",
      " [0. 0. 1.]\n",
      " [0. 0. 1.]\n",
      " [1. 0. 0.]\n",
      " [1. 0. 0.]\n",
      " [1. 0. 0.]\n",
      " [1. 0. 0.]\n",
      " [1. 0. 0.]\n",
      " [1. 0. 0.]\n",
      " [1. 0. 0.]]\n"
     ]
    }
   ],
   "source": [
    "from sklearn.preprocessing import OneHotEncoder\n",
    "\n",
    "ohe = OneHotEncoder()\n",
    "\n",
    "ulkeler = veriler.iloc[:,0:1].values\n",
    "\n",
    "ulkeler = ohe.fit_transform(ulkeler).toarray()\n",
    "\n",
    "print(ulkeler)"
   ]
  },
  {
   "cell_type": "markdown",
   "metadata": {},
   "source": [
    "### c. Verilerin Birleştirilmesi"
   ]
  },
  {
   "cell_type": "markdown",
   "metadata": {},
   "source": [
    "[pandas.DataFrame](https://pandas.pydata.org/pandas-docs/stable/reference/api/pandas.DataFrame.html)\n",
    "\n",
    "[pandas.concat](https://pandas.pydata.org/pandas-docs/stable/reference/api/pandas.concat.html)"
   ]
  },
  {
   "cell_type": "code",
   "execution_count": 6,
   "metadata": {},
   "outputs": [
    {
     "name": "stdout",
     "output_type": "stream",
     "text": [
      "     fr   tr   us\n",
      "0   0.0  1.0  0.0\n",
      "1   0.0  1.0  0.0\n",
      "2   0.0  1.0  0.0\n",
      "3   0.0  1.0  0.0\n",
      "4   0.0  1.0  0.0\n",
      "5   0.0  1.0  0.0\n",
      "6   0.0  1.0  0.0\n",
      "7   0.0  1.0  0.0\n",
      "8   0.0  1.0  0.0\n",
      "9   0.0  0.0  1.0\n",
      "10  0.0  0.0  1.0\n",
      "11  0.0  0.0  1.0\n",
      "12  0.0  0.0  1.0\n",
      "13  0.0  0.0  1.0\n",
      "14  0.0  0.0  1.0\n",
      "15  1.0  0.0  0.0\n",
      "16  1.0  0.0  0.0\n",
      "17  1.0  0.0  0.0\n",
      "18  1.0  0.0  0.0\n",
      "19  1.0  0.0  0.0\n",
      "20  1.0  0.0  0.0\n",
      "21  1.0  0.0  0.0\n"
     ]
    }
   ],
   "source": [
    "ulkeler = pd.DataFrame(data = ulkeler, index=range(22), columns=['fr', 'tr', 'us'])\n",
    "\n",
    "print(ulkeler)"
   ]
  },
  {
   "cell_type": "code",
   "execution_count": 7,
   "metadata": {},
   "outputs": [
    {
     "name": "stdout",
     "output_type": "stream",
     "text": [
      "      boy   kilo    yas\n",
      "0   130.0   30.0  10.00\n",
      "1   125.0   36.0  11.00\n",
      "2   135.0   34.0  10.00\n",
      "3   133.0   30.0   9.00\n",
      "4   129.0   38.0  12.00\n",
      "5   180.0   90.0  30.00\n",
      "6   190.0   80.0  25.00\n",
      "7   175.0   90.0  35.00\n",
      "8   177.0   60.0  22.00\n",
      "9   185.0  105.0  33.00\n",
      "10  165.0   55.0  27.00\n",
      "11  155.0   50.0  44.00\n",
      "12  160.0   58.0  28.45\n",
      "13  162.0   59.0  41.00\n",
      "14  167.0   62.0  55.00\n",
      "15  174.0   70.0  47.00\n",
      "16  193.0   90.0  28.45\n",
      "17  187.0   80.0  27.00\n",
      "18  183.0   88.0  28.00\n",
      "19  159.0   40.0  29.00\n",
      "20  164.0   66.0  32.00\n",
      "21  166.0   56.0  42.00\n"
     ]
    }
   ],
   "source": [
    "sayisal_veriler = pd.DataFrame(data = sayisal_veriler, index = range(22), columns = ['boy', 'kilo', 'yas'])\n",
    "print(sayisal_veriler)"
   ]
  },
  {
   "cell_type": "code",
   "execution_count": 8,
   "metadata": {},
   "outputs": [
    {
     "name": "stdout",
     "output_type": "stream",
     "text": [
      "   cinsiyet\n",
      "0         e\n",
      "1         e\n",
      "2         k\n",
      "3         k\n",
      "4         e\n",
      "5         e\n",
      "6         e\n",
      "7         e\n",
      "8         k\n",
      "9         e\n",
      "10        k\n",
      "11        k\n",
      "12        k\n",
      "13        k\n",
      "14        k\n",
      "15        e\n",
      "16        e\n",
      "17        e\n",
      "18        e\n",
      "19        k\n",
      "20        k\n",
      "21        k\n"
     ]
    }
   ],
   "source": [
    "cinsiyetler = veriler.iloc[:,-1:].values\n",
    "\n",
    "cinsiyetler = pd.DataFrame(data = cinsiyetler, index = range(22), columns=['cinsiyet'])\n",
    "\n",
    "print(cinsiyetler)"
   ]
  },
  {
   "cell_type": "code",
   "execution_count": 9,
   "metadata": {},
   "outputs": [
    {
     "name": "stdout",
     "output_type": "stream",
     "text": [
      "     fr   tr   us    boy   kilo    yas\n",
      "0   0.0  1.0  0.0  130.0   30.0  10.00\n",
      "1   0.0  1.0  0.0  125.0   36.0  11.00\n",
      "2   0.0  1.0  0.0  135.0   34.0  10.00\n",
      "3   0.0  1.0  0.0  133.0   30.0   9.00\n",
      "4   0.0  1.0  0.0  129.0   38.0  12.00\n",
      "5   0.0  1.0  0.0  180.0   90.0  30.00\n",
      "6   0.0  1.0  0.0  190.0   80.0  25.00\n",
      "7   0.0  1.0  0.0  175.0   90.0  35.00\n",
      "8   0.0  1.0  0.0  177.0   60.0  22.00\n",
      "9   0.0  0.0  1.0  185.0  105.0  33.00\n",
      "10  0.0  0.0  1.0  165.0   55.0  27.00\n",
      "11  0.0  0.0  1.0  155.0   50.0  44.00\n",
      "12  0.0  0.0  1.0  160.0   58.0  28.45\n",
      "13  0.0  0.0  1.0  162.0   59.0  41.00\n",
      "14  0.0  0.0  1.0  167.0   62.0  55.00\n",
      "15  1.0  0.0  0.0  174.0   70.0  47.00\n",
      "16  1.0  0.0  0.0  193.0   90.0  28.45\n",
      "17  1.0  0.0  0.0  187.0   80.0  27.00\n",
      "18  1.0  0.0  0.0  183.0   88.0  28.00\n",
      "19  1.0  0.0  0.0  159.0   40.0  29.00\n",
      "20  1.0  0.0  0.0  164.0   66.0  32.00\n",
      "21  1.0  0.0  0.0  166.0   56.0  42.00\n"
     ]
    }
   ],
   "source": [
    "birlestirilmis_veri = pd.concat([ulkeler, sayisal_veriler], axis=1)\n",
    "\n",
    "print(birlestirilmis_veri)"
   ]
  },
  {
   "cell_type": "code",
   "execution_count": 10,
   "metadata": {},
   "outputs": [
    {
     "name": "stdout",
     "output_type": "stream",
     "text": [
      "     fr   tr   us    boy   kilo    yas cinsiyet\n",
      "0   0.0  1.0  0.0  130.0   30.0  10.00        e\n",
      "1   0.0  1.0  0.0  125.0   36.0  11.00        e\n",
      "2   0.0  1.0  0.0  135.0   34.0  10.00        k\n",
      "3   0.0  1.0  0.0  133.0   30.0   9.00        k\n",
      "4   0.0  1.0  0.0  129.0   38.0  12.00        e\n",
      "5   0.0  1.0  0.0  180.0   90.0  30.00        e\n",
      "6   0.0  1.0  0.0  190.0   80.0  25.00        e\n",
      "7   0.0  1.0  0.0  175.0   90.0  35.00        e\n",
      "8   0.0  1.0  0.0  177.0   60.0  22.00        k\n",
      "9   0.0  0.0  1.0  185.0  105.0  33.00        e\n",
      "10  0.0  0.0  1.0  165.0   55.0  27.00        k\n",
      "11  0.0  0.0  1.0  155.0   50.0  44.00        k\n",
      "12  0.0  0.0  1.0  160.0   58.0  28.45        k\n",
      "13  0.0  0.0  1.0  162.0   59.0  41.00        k\n",
      "14  0.0  0.0  1.0  167.0   62.0  55.00        k\n",
      "15  1.0  0.0  0.0  174.0   70.0  47.00        e\n",
      "16  1.0  0.0  0.0  193.0   90.0  28.45        e\n",
      "17  1.0  0.0  0.0  187.0   80.0  27.00        e\n",
      "18  1.0  0.0  0.0  183.0   88.0  28.00        e\n",
      "19  1.0  0.0  0.0  159.0   40.0  29.00        k\n",
      "20  1.0  0.0  0.0  164.0   66.0  32.00        k\n",
      "21  1.0  0.0  0.0  166.0   56.0  42.00        k\n"
     ]
    }
   ],
   "source": [
    "birlestirilmis_veri = pd.concat([birlestirilmis_veri, cinsiyetler], axis=1)\n",
    "\n",
    "print(birlestirilmis_veri)"
   ]
  },
  {
   "cell_type": "code",
   "execution_count": null,
   "metadata": {},
   "outputs": [],
   "source": []
  }
 ],
 "metadata": {
  "kernelspec": {
   "display_name": "Python 3",
   "language": "python",
   "name": "python3"
  },
  "language_info": {
   "codemirror_mode": {
    "name": "ipython",
    "version": 3
   },
   "file_extension": ".py",
   "mimetype": "text/x-python",
   "name": "python",
   "nbconvert_exporter": "python",
   "pygments_lexer": "ipython3",
   "version": "3.6.7"
  }
 },
 "nbformat": 4,
 "nbformat_minor": 1
}
